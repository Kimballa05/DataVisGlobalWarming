{
 "cells": [
  {
   "cell_type": "code",
   "execution_count": 1,
   "id": "ccd0c5aa",
   "metadata": {},
   "outputs": [],
   "source": [
    "import pandas as pd"
   ]
  },
  {
   "cell_type": "markdown",
   "id": "49a339b4",
   "metadata": {},
   "source": [
    "### The Next cell basically manages the dataset to have similar country names"
   ]
  },
  {
   "cell_type": "code",
   "execution_count": 43,
   "id": "ea893345",
   "metadata": {},
   "outputs": [],
   "source": [
    "# Load the CSV file\n",
    "\n",
    "pop_raw = pd.read_csv('./population-and-demography.csv')\n",
    "male_pop_raw = pd.read_csv('./Male - population-and-demography.csv')\n",
    "female_pop_raw = pd.read_csv('./female - population-and-demography.csv')\n",
    "life_expec_raw = pd.read_csv('./life expectancy - population-and-demography.csv')\n",
    "death_rate_raw = pd.read_csv('./death rate - population-and-demography.csv')\n",
    "birth_rate_raw = pd.read_csv('./birth rate - population-and-demography.csv')\n",
    "child_death_raw = pd.read_csv('./child mortality rate - population-and-demography.csv')\n",
    "                   \n",
    "# List of non-country entries created by chat GPT \n",
    "non_countries = [\n",
    "    'Africa (UN)', 'American Samoa', 'Anguilla', 'Aruba', 'Asia (UN)',\n",
    "    'Bonaire Sint Eustatius and Saba', 'British Virgin Islands', 'Cayman Islands',\n",
    "    'Cook Islands', 'Curacao', 'Europe (UN)', 'Falkland Islands', 'Faroe Islands',\n",
    "    'French Guiana', 'French Polynesia', 'Gibraltar', 'Greenland', 'Guadeloupe',\n",
    "    'Guam', 'Guernsey', 'High-income countries', 'Hong Kong', 'Isle of Man', 'Jersey',\n",
    "    'Kosovo', 'Land-locked developing countries (LLDC)', 'Latin America and the Caribbean (UN)',\n",
    "    'Least developed countries', 'Less developed regions', 'Less developed regions, excluding China',\n",
    "    'Less developed regions, excluding least developed countries', 'Low-income countries',\n",
    "    'Lower-middle-income countries', 'Macao', 'Martinique', 'Mayotte', 'Micronesia (country)',\n",
    "    'Monaco', 'Montserrat', 'More developed regions', 'New Caledonia', 'Niue', 'Norfolk Island',\n",
    "    'Northern America (UN)', 'Northern Mariana Islands', 'Oceania (UN)', 'Puerto Rico',\n",
    "    'Reunion', 'Saint Barthelemy', 'Saint Helena', 'Saint Martin (French part)',\n",
    "    'Saint Pierre and Miquelon', 'Sint Maarten (Dutch part)', 'Small island developing states (SIDS)',\n",
    "    'Tokelau', 'Turks and Caicos Islands', 'Upper-middle-income countries',\n",
    "    'United States Virgin Islands', 'Wallis and Futuna', 'Western Sahara', 'World'\n",
    "]\n",
    "\n",
    "# Filter out the non-country entries\n",
    "pop = pop_raw[~pop_raw['Country name'].isin(non_countries)]\n",
    "male_pop = male_pop_raw[~male_pop_raw['Country name'].isin(non_countries)]\n",
    "female_pop = female_pop_raw[~female_pop_raw['Country name'].isin(non_countries)]\n",
    "life_expec_raw2 = life_expec_raw[~life_expec_raw['Country name'].isin(non_countries)]\n",
    "death_rate_raw2 = death_rate_raw[~death_rate_raw['Country name'].isin(non_countries)]\n",
    "birth_rate_raw2 = birth_rate_raw [~birth_rate_raw ['Country name'].isin(non_countries)]\n",
    "child_death_raw2 = child_death_raw[~child_death_raw['Country name'].isin(non_countries)]\n",
    "\n",
    "#Filter out 'Vatican' from some files\n",
    "death_rate = death_rate_raw2[death_rate_raw2['Country name'] != 'Vatican']\n",
    "birth_rate = birth_rate_raw2[birth_rate_raw2['Country name'] != 'Vatican']\n",
    "child_death = child_death_raw2[child_death_raw2['Country name'] != 'Vatican']\n",
    "life_expec = life_expec_raw2[life_expec_raw2['Country name'] != 'Vatican']\n"
   ]
  },
  {
   "cell_type": "markdown",
   "id": "c0c70524",
   "metadata": {},
   "source": [
    "### In the next cell I only kept the column that I will use "
   ]
  },
  {
   "cell_type": "code",
   "execution_count": 44,
   "id": "987f9d2a",
   "metadata": {},
   "outputs": [],
   "source": [
    "pop = pop[['Country name', 'Year', 'Population']]\n",
    "male_pop = male_pop[['Country name', 'Year', 'Male population']]\n",
    "female_pop = female_pop[['Country name', 'Year', 'Female population']]"
   ]
  },
  {
   "cell_type": "code",
   "execution_count": null,
   "id": "8b13f314",
   "metadata": {},
   "outputs": [],
   "source": []
  }
 ],
 "metadata": {
  "kernelspec": {
   "display_name": "Python 3 (ipykernel)",
   "language": "python",
   "name": "python3"
  },
  "language_info": {
   "codemirror_mode": {
    "name": "ipython",
    "version": 3
   },
   "file_extension": ".py",
   "mimetype": "text/x-python",
   "name": "python",
   "nbconvert_exporter": "python",
   "pygments_lexer": "ipython3",
   "version": "3.11.5"
  }
 },
 "nbformat": 4,
 "nbformat_minor": 5
}

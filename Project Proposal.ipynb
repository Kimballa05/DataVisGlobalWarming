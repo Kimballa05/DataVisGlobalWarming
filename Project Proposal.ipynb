{
 "cells": [
  {
   "cell_type": "markdown",
   "id": "98ffd77a",
   "metadata": {},
   "source": [
    "### Basic Info.The project title, your names, e-mail addresses, UIDs, a link to the project repository."
   ]
  },
  {
   "cell_type": "markdown",
   "id": "b7891d9e",
   "metadata": {},
   "source": [
    "### Background and Motivation. Discuss your motivations and reasons for choosing this project, especially any background or research interests that may have influenced your decision."
   ]
  },
  {
   "cell_type": "markdown",
   "id": "bd386b86",
   "metadata": {},
   "source": [
    "### Data. From where and how are you collecting your data? If appropriate, provide a link to your data sources."
   ]
  },
  {
   "cell_type": "markdown",
   "id": "742d6493",
   "metadata": {},
   "source": [
    "### Data Processing. Do you expect to do substantial data cleanup? What quantities do you plan to derive from your data? How will data processing be implemented?"
   ]
  },
  {
   "cell_type": "markdown",
   "id": "10590f55",
   "metadata": {},
   "source": [
    "### Analysis Questions. Provide the primary questions you are trying to answer with your visualization. What would you like to learn and accomplish? List the benefits."
   ]
  },
  {
   "cell_type": "markdown",
   "id": "b2c746c2",
   "metadata": {},
   "source": [
    "### Visualization Design. How will you display your data? Provide some general ideas that you have for the visualization design: which visualization do you want to use for which aspect. Discuss three alternative prototype designs for your visualizations. Create one final design that incorporates the best of your three designs. Describe your designs and justify your choices of visual encodings. Describe how your visualizations address the analysis questions."
   ]
  },
  {
   "cell_type": "markdown",
   "id": "84b96be7",
   "metadata": {},
   "source": [
    "### Must-Have Features. List the features without which you would consider your project to be a failure."
   ]
  },
  {
   "cell_type": "markdown",
   "id": "65952fae",
   "metadata": {},
   "source": [
    "### Optional Features. List the features which you consider to be nice to have, but not critical."
   ]
  },
  {
   "cell_type": "markdown",
   "id": "3c5ea319",
   "metadata": {},
   "source": [
    "### Project Schedule. Make sure that you plan your work so that you can avoid a big rush right before the final project deadline, and delegate different modules and responsibilities among your team members. Write this in terms of weekly deadlines."
   ]
  }
 ],
 "metadata": {
  "kernelspec": {
   "display_name": "Python 3 (ipykernel)",
   "language": "python",
   "name": "python3"
  },
  "language_info": {
   "codemirror_mode": {
    "name": "ipython",
    "version": 3
   },
   "file_extension": ".py",
   "mimetype": "text/x-python",
   "name": "python",
   "nbconvert_exporter": "python",
   "pygments_lexer": "ipython3",
   "version": "3.11.4"
  }
 },
 "nbformat": 4,
 "nbformat_minor": 5
}

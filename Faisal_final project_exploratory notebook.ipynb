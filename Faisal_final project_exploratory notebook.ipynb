{
 "cells": [
  {
   "cell_type": "code",
   "execution_count": 1,
   "id": "089f44a2",
   "metadata": {},
   "outputs": [],
   "source": [
    "import pandas as pd\n",
    "import json\n",
    "import geopandas as gpd\n",
    "import numpy as np\n",
    "import matplotlib.pyplot as plt\n",
    "import altair as alt\n",
    "import ipywidgets as widgets\n",
    "import seaborn as sns\n",
    "import IPython.display as ipd\n"
   ]
  },
  {
   "cell_type": "markdown",
   "id": "d0d2af35",
   "metadata": {},
   "source": [
    "### The Next cell basically manages the dataset to have similar country names. Many Countries are not in the json file that we have. So we are getting rid of it. "
   ]
  },
  {
   "cell_type": "code",
   "execution_count": 2,
   "id": "2732f750",
   "metadata": {},
   "outputs": [],
   "source": [
    "# Load the CSV file\n",
    "\n",
    "pop_raw = pd.read_csv('./population-and-demography.csv')\n",
    "male_pop_raw = pd.read_csv('./Male - population-and-demography.csv')\n",
    "female_pop_raw = pd.read_csv('./female - population-and-demography.csv')\n",
    "life_expec_raw = pd.read_csv('./life expectancy - population-and-demography.csv')\n",
    "death_rate_raw = pd.read_csv('./death rate - population-and-demography.csv')\n",
    "birth_rate_raw = pd.read_csv('./birth rate - population-and-demography.csv')\n",
    "child_death_raw = pd.read_csv('./child mortality rate - population-and-demography.csv')\n",
    "\n",
    "                   \n",
    "# List of non-country entries created by chat GPT \n",
    "non_countries = [\n",
    "    'Africa (UN)', 'Asia (UN)', 'Europe (UN)', 'High-income countries', 'Land-locked developing countries (LLDC)', \n",
    "    'Latin America and the Caribbean (UN)', 'Least developed countries', 'Less developed regions', \n",
    "    'Less developed regions, excluding China', 'Less developed regions, excluding least developed countries', \n",
    "    'Low-income countries', 'Lower-middle-income countries', 'More developed regions', 'Northern America (UN)',\n",
    "    'Oceania (UN)', 'Small island developing states (SIDS)', 'Upper-middle-income countries', 'World', 'Aruba', 'Barbados', 'Burundi', 'Saint Barthelemy', 'Bermuda', 'Brunei',\n",
    "    'Bonaire Sint Eustatius and Saba', \"Cote d'Ivoire\", 'Curacao', 'Falkland Islands',\n",
    "    'French Guiana', 'Guernsey', 'Guam', 'Jersey', 'Kiribati', 'Saint Martin (French part)',\n",
    "    'Northern Mariana Islands', 'Nauru', 'Niue', 'Reunion', 'Rwanda',\n",
    "    'Sint Maarten (Dutch part)', 'Tokelau', 'Turkey', 'Kosovo', 'Yemen' \n",
    "]\n",
    "\n",
    "# Filter out the non-country entries\n",
    "pop = pop_raw[~pop_raw['Country name'].isin(non_countries)]\n",
    "male_pop = male_pop_raw[~male_pop_raw['Country name'].isin(non_countries)]\n",
    "female_pop = female_pop_raw[~female_pop_raw['Country name'].isin(non_countries)]\n",
    "life_expec_raw2 = life_expec_raw[~life_expec_raw['Country name'].isin(non_countries)]\n",
    "death_rate_raw2 = death_rate_raw[~death_rate_raw['Country name'].isin(non_countries)]\n",
    "birth_rate_raw2 = birth_rate_raw [~birth_rate_raw ['Country name'].isin(non_countries)]\n",
    "child_death_raw2 = child_death_raw[~child_death_raw['Country name'].isin(non_countries)]\n",
    "\n",
    "#Filter out 'Vatican' from some files\n",
    "death_rate = death_rate_raw2[death_rate_raw2['Country name'] != 'Vatican']\n",
    "birth_rate = birth_rate_raw2[birth_rate_raw2['Country name'] != 'Vatican']\n",
    "child_death = child_death_raw2[child_death_raw2['Country name'] != 'Vatican']\n",
    "life_expec = life_expec_raw2[life_expec_raw2['Country name'] != 'Vatican']\n"
   ]
  },
  {
   "cell_type": "markdown",
   "id": "d5be67eb",
   "metadata": {},
   "source": [
    "### In the next cell I only kept the column that I will use "
   ]
  },
  {
   "cell_type": "code",
   "execution_count": 3,
   "id": "c0c93a42",
   "metadata": {},
   "outputs": [],
   "source": [
    "pop = pop[['Country name', 'Year', 'Population']]\n",
    "male_pop = male_pop[['Country name', 'Year', 'Male population']]\n",
    "female_pop = female_pop[['Country name', 'Year', 'Female population']]\n"
   ]
  },
  {
   "cell_type": "markdown",
   "id": "e6c83ecb",
   "metadata": {},
   "source": [
    "### All the data we had didn't have any ISO3 code with them which we will use to make a link with our worl.json file. So we used chatGPT to create the ISO3 for every countyr. The prompt was \"Here is the name of the countires. Now use your knowledge to give me the ISO3 and ISO2 for the countires and give me the list in a CSV file\""
   ]
  },
  {
   "cell_type": "code",
   "execution_count": 4,
   "id": "f02dcf29",
   "metadata": {},
   "outputs": [],
   "source": [
    "iso = pd.read_csv('./Country_with_ISO_Codes.csv')"
   ]
  },
  {
   "cell_type": "markdown",
   "id": "2eb8f5c8",
   "metadata": {},
   "source": [
    "### Creating a new dataset combining all the data"
   ]
  },
  {
   "cell_type": "code",
   "execution_count": 5,
   "id": "faf38d7f",
   "metadata": {},
   "outputs": [],
   "source": [
    "dataframes = {\n",
    "    'pop': pop,\n",
    "    'male_pop': male_pop,\n",
    "    'female_pop': female_pop,\n",
    "    'death_rate': death_rate,\n",
    "    'birth_rate': birth_rate,\n",
    "    'child_death': child_death\n",
    "}\n",
    "\n",
    "\n",
    "columns_to_take = [\n",
    "    ['Country name', 'Year', 'Population'],\n",
    "    ['Country name', 'Year', 'Male population'],\n",
    "    ['Country name', 'Year', 'Female population'],\n",
    "    ['Country name', 'Year', 'Death rate'],\n",
    "    ['Country name', 'Year', 'Birth rate'],\n",
    "    ['Country name', 'Year', 'Child mortality rate']\n",
    "]\n",
    "\n",
    "# Initialize an empty DataFrame\n",
    "final_df = pd.DataFrame()\n",
    "\n",
    "# Iterate over the datasets and columns\n",
    "for dataset_name, columns in zip(dataframes.keys(), columns_to_take):\n",
    "    df = dataframes[dataset_name][columns]\n",
    "    if final_df.empty:\n",
    "        final_df = df\n",
    "    else:\n",
    "        final_df = final_df.merge(df, on=['Country name', 'Year'], how='inner')\n",
    "\n",
    "\n",
    "#Merging data with ISO        \n",
    "final = final_df.merge(iso, on='Country name', how='left')\n",
    "\n",
    "final.to_csv('./final.csv', index=False)"
   ]
  },
  {
   "cell_type": "markdown",
   "id": "2f5cf589",
   "metadata": {},
   "source": [
    "### Merging data for heatmap with GEO JSON"
   ]
  },
  {
   "cell_type": "code",
   "execution_count": 6,
   "id": "7c0a0884",
   "metadata": {
    "scrolled": true
   },
   "outputs": [],
   "source": [
    "# Load the GeoJSON data\n",
    "world_geo = gpd.read_file('./world.json')\n",
    "\n",
    "# Filter the population data for the year 2021\n",
    "final_2021 = final[final['Year'] == 2021]\n",
    "\n",
    "# Merge the population data with geographical data using ISO3 codes\n",
    "merged_data = world_geo.merge(final_2021, left_on='id', right_on='ISO3')\n",
    "\n",
    "# Applying a logarithmic scale to the population data\n",
    "merged_data['Log_Population'] = np.log1p(merged_data['Population'])\n",
    "\n",
    "# Convert the merged GeoDataFrame to a GeoJSON format\n",
    "geojson_data = json.loads(merged_data.to_json())\n"
   ]
  },
  {
   "cell_type": "markdown",
   "id": "928f5d6c",
   "metadata": {},
   "source": [
    "### Creating Heat map for different data"
   ]
  },
  {
   "cell_type": "code",
   "execution_count": 7,
   "id": "2ff56994",
   "metadata": {},
   "outputs": [],
   "source": [
    "# Create a Population Choropleth map using Altair\n",
    "choropleth_map_pop = alt.Chart(alt.Data(values=geojson_data['features'])).mark_geoshape(\n",
    "    stroke='white'\n",
    ").encode(\n",
    "    alt.Color('properties.Log_Population:Q', \n",
    "              scale=alt.Scale(scheme='reds'),\n",
    "              title='Logarithmic Population',\n",
    "              legend = None),\n",
    "    tooltip=[\n",
    "        alt.Tooltip('properties.Country name:N', title='Country'),\n",
    "        alt.Tooltip('properties.Population:Q', title='Population')\n",
    "    ]\n",
    ").properties(\n",
    "    title='Population',\n",
    "    width=800,\n",
    "    height=600\n",
    ").project(\n",
    "    type='naturalEarth1'\n",
    ")\n",
    "\n",
    "\n",
    "# Create a birth rate Choropleth map using Altair\n",
    "choropleth_map_birth = alt.Chart(alt.Data(values=geojson_data['features'])).mark_geoshape(\n",
    "    stroke='white'\n",
    ").encode(\n",
    "    alt.Color('properties.Birth rate:Q', \n",
    "              scale=alt.Scale(scheme='reds'),\n",
    "              title='Birth rate',\n",
    "              legend = None),\n",
    "    tooltip=[\n",
    "        alt.Tooltip('properties.Country name:N', title='Country'),\n",
    "        alt.Tooltip('properties.Birth rate:Q', title='Birth rate')\n",
    "    ]\n",
    ").properties(\n",
    "    title='Birth Rate',\n",
    "    width=800,\n",
    "    height=600\n",
    ").project(\n",
    "    type='naturalEarth1'\n",
    ")\n",
    "\n",
    "# Create a Mortality rate Choropleth map using Altair\n",
    "choropleth_map_death = alt.Chart(alt.Data(values=geojson_data['features'])).mark_geoshape(\n",
    "    stroke='white'\n",
    ").encode(\n",
    "    alt.Color('properties.Death rate:Q', \n",
    "              scale=alt.Scale(scheme='reds'),\n",
    "              title='Mortality rate',\n",
    "              legend = None),\n",
    "    tooltip=[\n",
    "        alt.Tooltip('properties.Country name:N', title='Country'),\n",
    "        alt.Tooltip('properties.Death rate:Q', title='Mortality Rate')\n",
    "    ]\n",
    ").properties(\n",
    "    title='Mortality rate',\n",
    "    width=800,\n",
    "    height=600\n",
    ").project(\n",
    "    type='naturalEarth1'\n",
    ")\n",
    "\n",
    "# Create a Child mortality rate Choropleth map using Altair\n",
    "choropleth_map_child = alt.Chart(alt.Data(values=geojson_data['features'])).mark_geoshape(\n",
    "    stroke='white'\n",
    ").encode(\n",
    "    alt.Color('properties.Child mortality rate:Q', \n",
    "              scale=alt.Scale(scheme='reds'),\n",
    "              title='Child mortality rate',\n",
    "              legend = None),\n",
    "    tooltip=[\n",
    "        alt.Tooltip('properties.Country name:N', title='Country'),\n",
    "        alt.Tooltip('properties.Child mortality rate:Q', title='Child Mortality Rate')\n",
    "    ]\n",
    ").properties(\n",
    "    title='Child mortality rate',\n",
    "    width=800,\n",
    "    height=600\n",
    ").project(\n",
    "    type='naturalEarth1'\n",
    ")\n"
   ]
  },
  {
   "cell_type": "code",
   "execution_count": 8,
   "id": "afa3e7bc",
   "metadata": {},
   "outputs": [],
   "source": [
    "# # Filter the data for the year 2021\n",
    "# final_2021 = final[final['Year'] == 2021]\n",
    "\n",
    "# # Load your JSON file for geographical data\n",
    "# json_file_path = './world.json'  # Replace with the path to your JSON file\n",
    "# with open(json_file_path, 'r') as file:\n",
    "#     world_json = json.load(file)\n",
    "\n",
    "\n",
    "# # Preparing the GeoJSON data\n",
    "# features = world_json['objects']['countries']['geometries']  # Replace 'your_object_name' with the actual name\n",
    "# geojson_data = {\"type\": \"FeatureCollection\", \"features\": features}\n",
    "\n",
    "# # Create a selection dropdown to choose the metric for the heatmap\n",
    "# metrics = ['Population', 'Male population', 'Female population', 'Death rate', 'Birth rate', 'Child mortality rate']\n",
    "# input_dropdown = alt.binding_select(options=metrics, name='Metric')\n",
    "# selection = alt.selection_point(fields=['Metric'], bind=input_dropdown)\n",
    "\n",
    "# # Prepare the GeoJSON for use in Altair\n",
    "# geojson = alt.InlineData(values=geojson_data, format=alt.DataFormat(property='features', type='json'))\n",
    "\n",
    "# # Base map layer\n",
    "# base = alt.Chart(geojson).mark_geoshape(\n",
    "#     fill='lightgray',\n",
    "#     stroke='black'\n",
    "# ).properties(\n",
    "#     width=800,\n",
    "#     height=400\n",
    "# )\n",
    "\n",
    "# # Heatmap layer\n",
    "# heatmap = alt.Chart(geojson).mark_geoshape().encode(\n",
    "#     color=alt.condition(selection,\n",
    "#                         alt.Color('properties.value:Q', scale=alt.Scale(scheme='yellowgreenblue')),\n",
    "#                         alt.value('lightgray'))\n",
    "# ).transform_lookup(\n",
    "#     lookup='id',\n",
    "#     from_=alt.LookupData(final_2021, 'ISO3', metrics)\n",
    "# ).transform_fold(\n",
    "#     metrics, as_=['Metric', 'value']\n",
    "# ).add_selection(\n",
    "#     selection\n",
    "# ).properties(\n",
    "#     title='Interactive Heatmap for Demographic Data (2021)'\n",
    "# )\n",
    "\n",
    "# # Combine the layers\n",
    "# final_map = base + heatmap\n",
    "# final_map"
   ]
  },
  {
   "cell_type": "markdown",
   "id": "4b558c91",
   "metadata": {},
   "source": [
    "### This cell is interactive where you can choose map to show it from the drop down"
   ]
  },
  {
   "cell_type": "code",
   "execution_count": 9,
   "id": "5b5dc409",
   "metadata": {},
   "outputs": [
    {
     "data": {
      "application/vnd.jupyter.widget-view+json": {
       "model_id": "ecf673c163624c0089be42bbfb3faab7",
       "version_major": 2,
       "version_minor": 0
      },
      "text/plain": [
       "Output()"
      ]
     },
     "metadata": {},
     "output_type": "display_data"
    },
    {
     "data": {
      "application/vnd.jupyter.widget-view+json": {
       "model_id": "1f1adddff8f342308778cc94b35672a2",
       "version_major": 2,
       "version_minor": 0
      },
      "text/plain": [
       "Output()"
      ]
     },
     "metadata": {},
     "output_type": "display_data"
    }
   ],
   "source": [
    "charts = {\n",
    "    \"Population\": choropleth_map_pop,\n",
    "    \"Birth Rate\": choropleth_map_birth,\n",
    "    \"Mortality Rate\": choropleth_map_death,\n",
    "    \"Child Mortality Rate\": choropleth_map_child\n",
    "    # Add other charts here if needed\n",
    "}\n",
    "\n",
    "# Function to display the selected chart\n",
    "def show_chart(chart_name):\n",
    "    with chart_output:\n",
    "        chart_output.clear_output(wait=True)\n",
    "        display(charts[chart_name])\n",
    "\n",
    "dropdown_output = widgets.Output()\n",
    "chart_output = widgets.Output()\n",
    "\n",
    "# Create a dropdown to select the chart\n",
    "dropdown = widgets.Dropdown(options=charts.keys(), description='Select Chart:')\n",
    "\n",
    "\n",
    "def on_dropdown_change(change):\n",
    "    if change['type'] == 'change' and change['name'] == 'value':\n",
    "        show_chart(change['new'])\n",
    "\n",
    "dropdown.observe(on_dropdown_change, names='value')\n",
    "\n",
    "\n",
    "with dropdown_output:\n",
    "    display(dropdown)\n",
    "\n",
    "with chart_output:\n",
    "    display(charts[list(charts.keys())[0]])\n",
    "\n",
    "# Display the output widgets\n",
    "display(dropdown_output)\n",
    "display(chart_output)"
   ]
  },
  {
   "cell_type": "markdown",
   "id": "331b964f",
   "metadata": {},
   "source": [
    "### Now we will take a further look into some of the most or least populus country in the world"
   ]
  },
  {
   "cell_type": "code",
   "execution_count": 40,
   "id": "cc1a3079",
   "metadata": {},
   "outputs": [
    {
     "data": {
      "image/png": "[encoded data removed]",
      "text/plain": [
       "<Figure size 1000x600 with 1 Axes>"
      ]
     },
     "metadata": {},
     "output_type": "display_data"
    }
   ],
   "source": [
    "# Adjust population to be in millions for display\n",
    "most_populous['Population in Billions'] = most_populous['Population'] / 1e9\n",
    "\n",
    "sns.set_theme(style=\"white\")\n",
    "# Create a vertical bar plot\n",
    "plt.figure(figsize=(10, 6))\n",
    "barplot = sns.barplot(y='Population in Billions', x='Country name', data=most_populous, palette=\"mako\", orient='v')\n",
    "barplot.get_xaxis().set_ticks([])\n",
    "\n",
    "# Set the title and labels\n",
    "plt.title('')\n",
    "plt.ylabel('Billions')\n",
    "plt.xlabel('')\n",
    "\n",
    "\n",
    "\n",
    "# Add the country name and population number on top of each bar\n",
    "for bar, label in zip(barplot.patches, most_populous['Country name']):\n",
    "    plt.text(bar.get_x() + bar.get_width() / 2, bar.get_height(), label, \n",
    "             ha='center', va='bottom', rotation=0, color='black')\n",
    "\n",
    "# Show the plot\n",
    "plt.show()\n",
    "\n"
   ]
  }
 ],
 "metadata": {
  "kernelspec": {
   "display_name": "Python 3 (ipykernel)",
   "language": "python",
   "name": "python3"
  },
  "language_info": {
   "codemirror_mode": {
    "name": "ipython",
    "version": 3
   },
   "file_extension": ".py",
   "mimetype": "text/x-python",
   "name": "python",
   "nbconvert_exporter": "python",
   "pygments_lexer": "ipython3",
   "version": "3.11.5"
  }
 },
 "nbformat": 4,
 "nbformat_minor": 5
}
